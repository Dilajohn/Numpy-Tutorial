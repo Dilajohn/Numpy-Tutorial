{
  "cells": [
    {
      "cell_type": "markdown",
      "metadata": {
        "id": "view-in-github",
        "colab_type": "text"
      },
      "source": [
        "<a href=\"https://colab.research.google.com/github/Dilajohn/Numpy-Tutorial/blob/main/Numpy_Tutorial.ipynb\" target=\"_parent\"><img src=\"https://colab.research.google.com/assets/colab-badge.svg\" alt=\"Open In Colab\"/></a>"
      ]
    },
    {
      "cell_type": "code",
      "source": [
        "import numpy as np\n",
        "list1 = [1,2,3,4,5]\n",
        "print(list1)\n",
        "type(list1)"
      ],
      "metadata": {
        "id": "nwqzh94eRMJ7",
        "outputId": "b478a971-ffc7-4a11-e236-3c9dfde53a0d",
        "colab": {
          "base_uri": "https://localhost:8080/"
        }
      },
      "execution_count": null,
      "outputs": [
        {
          "output_type": "stream",
          "name": "stdout",
          "text": [
            "[1, 2, 3, 4, 5]\n"
          ]
        },
        {
          "output_type": "execute_result",
          "data": {
            "text/plain": [
              "list"
            ]
          },
          "metadata": {},
          "execution_count": 3
        }
      ]
    },
    {
      "cell_type": "code",
      "source": [
        "# converting a list to a numpy array\n",
        "import numpy as np\n",
        "arr = np.array(list1)\n",
        "print(arr)\n",
        "type(arr)"
      ],
      "metadata": {
        "colab": {
          "base_uri": "https://localhost:8080/"
        },
        "id": "vWyvZc3JShxS",
        "outputId": "b2a86f16-e9e1-496d-8767-09f59668277a"
      },
      "execution_count": null,
      "outputs": [
        {
          "output_type": "stream",
          "name": "stdout",
          "text": [
            "[1 2 3 4 5]\n"
          ]
        },
        {
          "output_type": "execute_result",
          "data": {
            "text/plain": [
              "numpy.ndarray"
            ]
          },
          "metadata": {},
          "execution_count": 7
        }
      ]
    },
    {
      "cell_type": "code",
      "source": [
        "listarray = np.array([[1,2,3],[4,5,6],[7,8,9]])\n",
        "print(listarray)\n",
        "listarray.size # number of elements in an array"
      ],
      "metadata": {
        "colab": {
          "base_uri": "https://localhost:8080/"
        },
        "id": "UGEo90pfXk3E",
        "outputId": "7745a9c6-30c6-4d9b-df01-a90a78e3d729"
      },
      "execution_count": 9,
      "outputs": [
        {
          "output_type": "stream",
          "name": "stdout",
          "text": [
            "[[1 2 3]\n",
            " [4 5 6]\n",
            " [7 8 9]]\n"
          ]
        },
        {
          "output_type": "execute_result",
          "data": {
            "text/plain": [
              "9"
            ]
          },
          "metadata": {},
          "execution_count": 9
        }
      ]
    },
    {
      "cell_type": "code",
      "source": [
        "listarray.dtype # checking the data type of the values in the array"
      ],
      "metadata": {
        "colab": {
          "base_uri": "https://localhost:8080/"
        },
        "id": "-2Fs3PnaYo6s",
        "outputId": "8b3b6337-d073-4808-d061-4c88c40f2182"
      },
      "execution_count": 10,
      "outputs": [
        {
          "output_type": "execute_result",
          "data": {
            "text/plain": [
              "dtype('int64')"
            ]
          },
          "metadata": {},
          "execution_count": 10
        }
      ]
    },
    {
      "cell_type": "markdown",
      "source": [
        "**Creating a 1d array**\n",
        "1D array => represents a simple sequence of numbers like a vector\n",
        "np.array([7,2,5,6])\n",
        "Note:\n",
        "each dimention is an axis and a 1D array has one axis"
      ],
      "metadata": {
        "id": "O53f30eSZAHN"
      }
    },
    {
      "cell_type": "code",
      "source": [
        "arr = np.array([1,2,3,4,5])\n",
        "print(\"1D Array\")\n",
        "print(arr)\n",
        "arr.shape"
      ],
      "metadata": {
        "colab": {
          "base_uri": "https://localhost:8080/"
        },
        "id": "xHIGcfWVY57d",
        "outputId": "530c6ddd-1681-40f1-9e3b-d3b7502ae683"
      },
      "execution_count": 11,
      "outputs": [
        {
          "output_type": "stream",
          "name": "stdout",
          "text": [
            "1D Array\n",
            "[1 2 3 4 5]\n"
          ]
        },
        {
          "output_type": "execute_result",
          "data": {
            "text/plain": [
              "(5,)"
            ]
          },
          "metadata": {},
          "execution_count": 11
        }
      ]
    },
    {
      "cell_type": "markdown",
      "source": [
        "**Creating a 2D array(Matrix)**\n",
        "\n",
        "2D array =>represents a matrix\n",
        "> agrid of numbers with columns and rows\n",
        ">has two axes"
      ],
      "metadata": {
        "id": "ZMQMSTyua78q"
      }
    },
    {
      "cell_type": "code",
      "source": [
        "arr_2d = np.array([[1,2,3,],[4,5,6]])\n",
        "print(\"2D Array:\")\n",
        "print(arr_2d)\n",
        "arr_2d.shape # the number of rows and columns in an array"
      ],
      "metadata": {
        "colab": {
          "base_uri": "https://localhost:8080/"
        },
        "id": "z-nZoaEdbqeP",
        "outputId": "43b38b7e-b5aa-4dd3-d65a-dbc462b0bd0e"
      },
      "execution_count": 12,
      "outputs": [
        {
          "output_type": "stream",
          "name": "stdout",
          "text": [
            "2D Array:\n",
            "[[1 2 3]\n",
            " [4 5 6]]\n"
          ]
        },
        {
          "output_type": "execute_result",
          "data": {
            "text/plain": [
              "(2, 3)"
            ]
          },
          "metadata": {},
          "execution_count": 12
        }
      ]
    },
    {
      "cell_type": "code",
      "source": [
        "a = np.array([[1,2,3,2],[2,5,82,7],[5,8,7,5]],dtype=np.int32)\n",
        "print(a)\n",
        "a.shape #number of rows (axis 0):3 (refers to the horizontal direction in the array)\n",
        "        #number of columns(axis 1) :4 (refers to the vertical direction in the array)"
      ],
      "metadata": {
        "colab": {
          "base_uri": "https://localhost:8080/"
        },
        "id": "ka9Y0y_KcaCP",
        "outputId": "d145e700-dc7b-4611-c447-f9bfd179040f"
      },
      "execution_count": 14,
      "outputs": [
        {
          "output_type": "stream",
          "name": "stdout",
          "text": [
            "[[ 1  2  3  2]\n",
            " [ 2  5 82  7]\n",
            " [ 5  8  7  5]]\n"
          ]
        },
        {
          "output_type": "execute_result",
          "data": {
            "text/plain": [
              "(3, 4)"
            ]
          },
          "metadata": {},
          "execution_count": 14
        }
      ]
    },
    {
      "cell_type": "markdown",
      "source": [
        "**creating a 3D Arry**\n",
        "3Darray => represents a tensor\n",
        ">A collection of matrices stacked together\n",
        "> has three axes"
      ],
      "metadata": {
        "id": "-wT_VbZFeTHX"
      }
    },
    {
      "cell_type": "code",
      "source": [
        "# Create a 3D array with dimensions (2,3,4)\n",
        "# 2matrices(layers), 3rows , and 4 columns\n",
        "arr_3d = np.array([[[1,2,3,4],[5,6,7,8],[9,10,11,12]],[[13,14,15,16],[17,18,19,20],[21,22,23,24]]],dtype=float)\n",
        "print(arr_3d)\n",
        "print(\"shape:\",arr_3d.shape)"
      ],
      "metadata": {
        "id": "mX_pbBKudyaK"
      },
      "execution_count": null,
      "outputs": []
    }
  ],
  "metadata": {
    "colab": {
      "provenance": [],
      "include_colab_link": true
    },
    "kernelspec": {
      "display_name": "Python 3",
      "name": "python3"
    }
  },
  "nbformat": 4,
  "nbformat_minor": 0
}