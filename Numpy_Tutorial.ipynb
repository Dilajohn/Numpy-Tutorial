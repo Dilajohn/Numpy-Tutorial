{
  "cells": [
    {
      "cell_type": "markdown",
      "metadata": {
        "id": "view-in-github",
        "colab_type": "text"
      },
      "source": [
        "<a href=\"https://colab.research.google.com/github/Dilajohn/Numpy-Tutorial/blob/main/Numpy_Tutorial.ipynb\" target=\"_parent\"><img src=\"https://colab.research.google.com/assets/colab-badge.svg\" alt=\"Open In Colab\"/></a>"
      ]
    },
    {
      "cell_type": "code",
      "source": [
        "import numpy as np\n",
        "list1 = [1,2,3,4,5]\n",
        "print(list1)\n",
        "type(list1)"
      ],
      "metadata": {
        "id": "nwqzh94eRMJ7",
        "outputId": "b478a971-ffc7-4a11-e236-3c9dfde53a0d",
        "colab": {
          "base_uri": "https://localhost:8080/"
        }
      },
      "execution_count": null,
      "outputs": [
        {
          "output_type": "stream",
          "name": "stdout",
          "text": [
            "[1, 2, 3, 4, 5]\n"
          ]
        },
        {
          "output_type": "execute_result",
          "data": {
            "text/plain": [
              "list"
            ]
          },
          "metadata": {},
          "execution_count": 3
        }
      ]
    },
    {
      "cell_type": "code",
      "source": [
        "# converting a list to a numpy array\n",
        "import numpy as np\n",
        "arr = np.array(list1)\n",
        "print(arr)\n",
        "type(arr)"
      ],
      "metadata": {
        "colab": {
          "base_uri": "https://localhost:8080/"
        },
        "id": "vWyvZc3JShxS",
        "outputId": "b2a86f16-e9e1-496d-8767-09f59668277a"
      },
      "execution_count": null,
      "outputs": [
        {
          "output_type": "stream",
          "name": "stdout",
          "text": [
            "[1 2 3 4 5]\n"
          ]
        },
        {
          "output_type": "execute_result",
          "data": {
            "text/plain": [
              "numpy.ndarray"
            ]
          },
          "metadata": {},
          "execution_count": 7
        }
      ]
    },
    {
      "cell_type": "code",
      "source": [
        "listarray = np.array([[1,2,3],[4,5,6],[7,8,9]])\n",
        "print(listarray)\n",
        "listarray.size # number of elements in an array"
      ],
      "metadata": {
        "colab": {
          "base_uri": "https://localhost:8080/"
        },
        "id": "UGEo90pfXk3E",
        "outputId": "7745a9c6-30c6-4d9b-df01-a90a78e3d729"
      },
      "execution_count": 9,
      "outputs": [
        {
          "output_type": "stream",
          "name": "stdout",
          "text": [
            "[[1 2 3]\n",
            " [4 5 6]\n",
            " [7 8 9]]\n"
          ]
        },
        {
          "output_type": "execute_result",
          "data": {
            "text/plain": [
              "9"
            ]
          },
          "metadata": {},
          "execution_count": 9
        }
      ]
    },
    {
      "cell_type": "code",
      "source": [
        "listarray.dtype # checking the data type of the values in the array"
      ],
      "metadata": {
        "colab": {
          "base_uri": "https://localhost:8080/"
        },
        "id": "-2Fs3PnaYo6s",
        "outputId": "8b3b6337-d073-4808-d061-4c88c40f2182"
      },
      "execution_count": 10,
      "outputs": [
        {
          "output_type": "execute_result",
          "data": {
            "text/plain": [
              "dtype('int64')"
            ]
          },
          "metadata": {},
          "execution_count": 10
        }
      ]
    },
    {
      "cell_type": "markdown",
      "source": [
        "**Creating a 1d array**\n",
        "1D array => represents a simple sequence of numbers like a vector\n",
        "np.array([7,2,5,6])\n",
        "Note:\n",
        "each dimention is an axis and a 1D array has one axis"
      ],
      "metadata": {
        "id": "O53f30eSZAHN"
      }
    },
    {
      "cell_type": "code",
      "source": [
        "arr = np.array([1,2,3,4,5])\n",
        "print(\"1D Array\")\n",
        "print(arr)\n",
        "arr.shape"
      ],
      "metadata": {
        "colab": {
          "base_uri": "https://localhost:8080/"
        },
        "id": "xHIGcfWVY57d",
        "outputId": "530c6ddd-1681-40f1-9e3b-d3b7502ae683"
      },
      "execution_count": 11,
      "outputs": [
        {
          "output_type": "stream",
          "name": "stdout",
          "text": [
            "1D Array\n",
            "[1 2 3 4 5]\n"
          ]
        },
        {
          "output_type": "execute_result",
          "data": {
            "text/plain": [
              "(5,)"
            ]
          },
          "metadata": {},
          "execution_count": 11
        }
      ]
    },
    {
      "cell_type": "markdown",
      "source": [
        "**Creating a 2D array(Matrix)**\n",
        "\n",
        "2D array =>represents a matrix\n",
        "> agrid of numbers with columns and rows\n",
        ">has two axes"
      ],
      "metadata": {
        "id": "ZMQMSTyua78q"
      }
    },
    {
      "cell_type": "code",
      "source": [
        "arr_2d = np.array([[1,2,3,],[4,5,6]])\n",
        "print(\"2D Array:\")\n",
        "print(arr_2d)\n",
        "arr_2d.shape # the number of rows and columns in an array"
      ],
      "metadata": {
        "colab": {
          "base_uri": "https://localhost:8080/"
        },
        "id": "z-nZoaEdbqeP",
        "outputId": "43b38b7e-b5aa-4dd3-d65a-dbc462b0bd0e"
      },
      "execution_count": 12,
      "outputs": [
        {
          "output_type": "stream",
          "name": "stdout",
          "text": [
            "2D Array:\n",
            "[[1 2 3]\n",
            " [4 5 6]]\n"
          ]
        },
        {
          "output_type": "execute_result",
          "data": {
            "text/plain": [
              "(2, 3)"
            ]
          },
          "metadata": {},
          "execution_count": 12
        }
      ]
    },
    {
      "cell_type": "code",
      "source": [
        "a = np.array([[1,2,3,2],[2,5,82,7],[5,8,7,5]],dtype=np.int32)\n",
        "print(a)\n",
        "a.shape #number of rows (axis 0):3 (refers to the horizontal direction in the array)\n",
        "        #number of columns(axis 1) :4 (refers to the vertical direction in the array)"
      ],
      "metadata": {
        "colab": {
          "base_uri": "https://localhost:8080/"
        },
        "id": "ka9Y0y_KcaCP",
        "outputId": "d145e700-dc7b-4611-c447-f9bfd179040f"
      },
      "execution_count": 14,
      "outputs": [
        {
          "output_type": "stream",
          "name": "stdout",
          "text": [
            "[[ 1  2  3  2]\n",
            " [ 2  5 82  7]\n",
            " [ 5  8  7  5]]\n"
          ]
        },
        {
          "output_type": "execute_result",
          "data": {
            "text/plain": [
              "(3, 4)"
            ]
          },
          "metadata": {},
          "execution_count": 14
        }
      ]
    },
    {
      "cell_type": "markdown",
      "source": [
        "**creating a 3D Arry**\n",
        "3Darray => represents a tensor\n",
        ">A collection of matrices stacked together\n",
        "> has three axes"
      ],
      "metadata": {
        "id": "-wT_VbZFeTHX"
      }
    },
    {
      "cell_type": "code",
      "source": [
        "# Create a 3D array with dimensions (2,3,4)\n",
        "# 2matrices(layers), 3rows , and 4 columns\n",
        "arr_3d = np.array([[[1,2,3,4],[5,6,7,8],[9,10,11,12]],[[13,14,15,16],[17,18,19,20],[21,22,23,24]]],dtype=float)\n",
        "print(arr_3d)\n",
        "print(\"shape:\",arr_3d.shape)"
      ],
      "metadata": {
        "colab": {
          "base_uri": "https://localhost:8080/"
        },
        "id": "mX_pbBKudyaK",
        "outputId": "47e39329-cbce-4f69-a16c-d9c20a3fd223"
      },
      "execution_count": 15,
      "outputs": [
        {
          "output_type": "stream",
          "name": "stdout",
          "text": [
            "[[[ 1.  2.  3.  4.]\n",
            "  [ 5.  6.  7.  8.]\n",
            "  [ 9. 10. 11. 12.]]\n",
            "\n",
            " [[13. 14. 15. 16.]\n",
            "  [17. 18. 19. 20.]\n",
            "  [21. 22. 23. 24.]]]\n",
            "shape: (2, 3, 4)\n"
          ]
        }
      ]
    },
    {
      "cell_type": "code",
      "source": [
        "arr_3d.ndim #number of dimensions"
      ],
      "metadata": {
        "colab": {
          "base_uri": "https://localhost:8080/"
        },
        "id": "ele_IeMpkCHw",
        "outputId": "2cefbf35-ac15-4407-e0ea-ca8ec7f6d12c"
      },
      "execution_count": 16,
      "outputs": [
        {
          "output_type": "execute_result",
          "data": {
            "text/plain": [
              "3"
            ]
          },
          "metadata": {},
          "execution_count": 16
        }
      ]
    },
    {
      "cell_type": "code",
      "source": [
        "zeros_3d = np.zeros((2,3,4))\n",
        "zeros_3d"
      ],
      "metadata": {
        "colab": {
          "base_uri": "https://localhost:8080/"
        },
        "id": "lYeDV35YkZOc",
        "outputId": "d9c414ab-fed8-4197-ea9c-4f1e31472c51"
      },
      "execution_count": 18,
      "outputs": [
        {
          "output_type": "execute_result",
          "data": {
            "text/plain": [
              "array([[[0., 0., 0., 0.],\n",
              "        [0., 0., 0., 0.],\n",
              "        [0., 0., 0., 0.]],\n",
              "\n",
              "       [[0., 0., 0., 0.],\n",
              "        [0., 0., 0., 0.],\n",
              "        [0., 0., 0., 0.]]])"
            ]
          },
          "metadata": {},
          "execution_count": 18
        }
      ]
    },
    {
      "cell_type": "code",
      "source": [
        "ones_3d = np.ones((2,3,4))\n",
        "ones_3d"
      ],
      "metadata": {
        "colab": {
          "base_uri": "https://localhost:8080/"
        },
        "id": "QVfi1CeUk1Aa",
        "outputId": "755583da-6bd3-4997-99d1-6c8f930691d1"
      },
      "execution_count": 19,
      "outputs": [
        {
          "output_type": "execute_result",
          "data": {
            "text/plain": [
              "array([[[1., 1., 1., 1.],\n",
              "        [1., 1., 1., 1.],\n",
              "        [1., 1., 1., 1.]],\n",
              "\n",
              "       [[1., 1., 1., 1.],\n",
              "        [1., 1., 1., 1.],\n",
              "        [1., 1., 1., 1.]]])"
            ]
          },
          "metadata": {},
          "execution_count": 19
        }
      ]
    },
    {
      "cell_type": "code",
      "source": [
        "random_3d = np.random.random((2,3,4))\n",
        "random_3d"
      ],
      "metadata": {
        "colab": {
          "base_uri": "https://localhost:8080/"
        },
        "id": "tKgMlUwDlL_N",
        "outputId": "e6776310-55d0-478d-cdd6-d201d468f043"
      },
      "execution_count": 20,
      "outputs": [
        {
          "output_type": "execute_result",
          "data": {
            "text/plain": [
              "array([[[0.44545765, 0.69904469, 0.69201143, 0.58963875],\n",
              "        [0.39593448, 0.90589796, 0.42525804, 0.54632553],\n",
              "        [0.59292656, 0.0905394 , 0.04183785, 0.05806395]],\n",
              "\n",
              "       [[0.60849288, 0.08406213, 0.03805683, 0.0465629 ],\n",
              "        [0.48306814, 0.69897896, 0.99098124, 0.87185   ],\n",
              "        [0.495479  , 0.9833698 , 0.61957043, 0.89894465]]])"
            ]
          },
          "metadata": {},
          "execution_count": 20
        }
      ]
    },
    {
      "cell_type": "markdown",
      "source": [
        "**creating a zero-filled array**"
      ],
      "metadata": {
        "id": "Ag8jvJWllc4o"
      }
    },
    {
      "cell_type": "code",
      "source": [
        "zeros = np.zeros((2,3)) #2 x 3 array of zeros\n",
        "print(\"zero-filled array:\")\n",
        "print(zeros)"
      ],
      "metadata": {
        "colab": {
          "base_uri": "https://localhost:8080/"
        },
        "id": "vtIaKJVgljD5",
        "outputId": "39a709c1-97a0-45bd-89ff-60abc52c5033"
      },
      "execution_count": 22,
      "outputs": [
        {
          "output_type": "stream",
          "name": "stdout",
          "text": [
            "zero-filled array:\n",
            "[[0. 0. 0.]\n",
            " [0. 0. 0.]]\n"
          ]
        }
      ]
    },
    {
      "cell_type": "code",
      "source": [
        "zeros.dtype"
      ],
      "metadata": {
        "colab": {
          "base_uri": "https://localhost:8080/"
        },
        "id": "t9rsRtBOmGLc",
        "outputId": "cc7782cc-e559-4119-a215-857242285bf5"
      },
      "execution_count": 23,
      "outputs": [
        {
          "output_type": "execute_result",
          "data": {
            "text/plain": [
              "dtype('float64')"
            ]
          },
          "metadata": {},
          "execution_count": 23
        }
      ]
    },
    {
      "cell_type": "code",
      "source": [
        "zeros.shape"
      ],
      "metadata": {
        "colab": {
          "base_uri": "https://localhost:8080/"
        },
        "id": "uDif4xM9mM9k",
        "outputId": "81c28bd8-af9b-447f-de55-3b10dd577406"
      },
      "execution_count": 24,
      "outputs": [
        {
          "output_type": "execute_result",
          "data": {
            "text/plain": [
              "(2, 3)"
            ]
          },
          "metadata": {},
          "execution_count": 24
        }
      ]
    },
    {
      "cell_type": "markdown",
      "source": [
        "creating an array of ones"
      ],
      "metadata": {
        "id": "DN5ucoD6mw7o"
      }
    },
    {
      "cell_type": "code",
      "source": [
        "ones = np.ones((3,3)) #3x3 array of ones\n",
        "print(\"ones-filled Array:\")\n",
        "print(ones)"
      ],
      "metadata": {
        "colab": {
          "base_uri": "https://localhost:8080/"
        },
        "id": "o2rb0cx-mvJp",
        "outputId": "ff7745f3-12c9-4ee1-9760-93a59ec7ec36"
      },
      "execution_count": 25,
      "outputs": [
        {
          "output_type": "stream",
          "name": "stdout",
          "text": [
            "ones-filled Array:\n",
            "[[1. 1. 1.]\n",
            " [1. 1. 1.]\n",
            " [1. 1. 1.]]\n"
          ]
        }
      ]
    },
    {
      "cell_type": "markdown",
      "source": [
        "**Creating an array of apraticular value**"
      ],
      "metadata": {
        "id": "i2tPPAaSnM8a"
      }
    },
    {
      "cell_type": "code",
      "source": [
        "array_of_threes = np.full((5,4),3) #5x4 array filled with 3\n",
        "print(array_of_threes)"
      ],
      "metadata": {
        "colab": {
          "base_uri": "https://localhost:8080/"
        },
        "id": "rsyH1hePnUGK",
        "outputId": "2efe4d39-3044-49f9-ead3-dc5fe184e682"
      },
      "execution_count": 26,
      "outputs": [
        {
          "output_type": "stream",
          "name": "stdout",
          "text": [
            "[[3 3 3 3]\n",
            " [3 3 3 3]\n",
            " [3 3 3 3]\n",
            " [3 3 3 3]\n",
            " [3 3 3 3]]\n"
          ]
        }
      ]
    },
    {
      "cell_type": "code",
      "source": [
        "#create a 1D array of length 5 , filled with 2 and with dtype float64\n",
        "array_of_twos_float = np.full(5,2, dtype = np.float64)\n",
        "print(array_of_twos_float)\n"
      ],
      "metadata": {
        "colab": {
          "base_uri": "https://localhost:8080/"
        },
        "id": "Nc774XSCnsQe",
        "outputId": "05b700a9-90e4-4c06-9796-713c0d621684"
      },
      "execution_count": 28,
      "outputs": [
        {
          "output_type": "stream",
          "name": "stdout",
          "text": [
            "[2. 2. 2. 2. 2.]\n"
          ]
        }
      ]
    },
    {
      "cell_type": "code",
      "source": [
        "# creating an empty array of shape (4,6)\n",
        "empty_array = np.empty((4,6))# creates an numpy array without initializing its values\n",
        "print(empty_array)"
      ],
      "metadata": {
        "colab": {
          "base_uri": "https://localhost:8080/"
        },
        "id": "YQF25aayo4W0",
        "outputId": "330dddcd-226b-48cb-e93e-9eb4d030aa3d"
      },
      "execution_count": 29,
      "outputs": [
        {
          "output_type": "stream",
          "name": "stdout",
          "text": [
            "[[0.44545765 0.69904469 0.69201143 0.58963875 0.39593448 0.90589796]\n",
            " [0.42525804 0.54632553 0.59292656 0.0905394  0.04183785 0.05806395]\n",
            " [0.60849288 0.08406213 0.03805683 0.0465629  0.48306814 0.69897896]\n",
            " [0.99098124 0.87185    0.495479   0.9833698  0.61957043 0.89894465]]\n"
          ]
        }
      ]
    },
    {
      "cell_type": "markdown",
      "source": [
        "**Identy matrix**"
      ],
      "metadata": {
        "id": "f_65tmYMpi3g"
      }
    },
    {
      "cell_type": "code",
      "source": [],
      "metadata": {
        "id": "TerG3fyEpoM6"
      },
      "execution_count": null,
      "outputs": []
    }
  ],
  "metadata": {
    "colab": {
      "provenance": [],
      "include_colab_link": true
    },
    "kernelspec": {
      "display_name": "Python 3",
      "name": "python3"
    }
  },
  "nbformat": 4,
  "nbformat_minor": 0
}